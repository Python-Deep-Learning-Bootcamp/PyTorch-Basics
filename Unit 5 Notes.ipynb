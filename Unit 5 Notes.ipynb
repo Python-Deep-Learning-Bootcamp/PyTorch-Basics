{
 "cells": [
  {
   "cell_type": "code",
   "execution_count": 1,
   "id": "2dafbf8a",
   "metadata": {},
   "outputs": [],
   "source": [
    "# PYTORCH"
   ]
  },
  {
   "cell_type": "code",
   "execution_count": 2,
   "id": "7a8ac2db",
   "metadata": {},
   "outputs": [],
   "source": [
    "# A tensor is a generalized matrix"
   ]
  },
  {
   "cell_type": "code",
   "execution_count": 3,
   "id": "219b8229",
   "metadata": {},
   "outputs": [],
   "source": [
    "# scalar, vector, matrix, tensor\n",
    "# but a vector is technically a 1D tensor, matrix is  a 2D tensor those just\n",
    "# have their own names already"
   ]
  },
  {
   "cell_type": "code",
   "execution_count": 4,
   "id": "57fcf2c4",
   "metadata": {},
   "outputs": [],
   "source": [
    "# easiest to arrange data sets as tensors"
   ]
  },
  {
   "cell_type": "code",
   "execution_count": 5,
   "id": "5c9852e0",
   "metadata": {},
   "outputs": [],
   "source": [
    "#PyTorch Tensor Basics"
   ]
  },
  {
   "cell_type": "code",
   "execution_count": 6,
   "id": "3ba9ad3a",
   "metadata": {},
   "outputs": [],
   "source": [
    "import torch"
   ]
  },
  {
   "cell_type": "code",
   "execution_count": 7,
   "id": "38b18d2f",
   "metadata": {},
   "outputs": [],
   "source": [
    "import numpy as np"
   ]
  },
  {
   "cell_type": "code",
   "execution_count": 9,
   "id": "9a97f8b6",
   "metadata": {},
   "outputs": [
    {
     "data": {
      "text/plain": [
       "'1.1.0'"
      ]
     },
     "execution_count": 9,
     "metadata": {},
     "output_type": "execute_result"
    }
   ],
   "source": [
    "torch.__version__\n",
    "#to check enviornment"
   ]
  },
  {
   "cell_type": "code",
   "execution_count": 10,
   "id": "cf40c399",
   "metadata": {},
   "outputs": [],
   "source": [
    "arr = np.array([1,2,3,4,5])"
   ]
  },
  {
   "cell_type": "code",
   "execution_count": 11,
   "id": "89de7713",
   "metadata": {},
   "outputs": [
    {
     "name": "stdout",
     "output_type": "stream",
     "text": [
      "[1 2 3 4 5]\n"
     ]
    }
   ],
   "source": [
    "print(arr)"
   ]
  },
  {
   "cell_type": "code",
   "execution_count": 12,
   "id": "865bbffe",
   "metadata": {},
   "outputs": [
    {
     "data": {
      "text/plain": [
       "dtype('int32')"
      ]
     },
     "execution_count": 12,
     "metadata": {},
     "output_type": "execute_result"
    }
   ],
   "source": [
    "arr.dtype"
   ]
  },
  {
   "cell_type": "code",
   "execution_count": 13,
   "id": "40c0bab6",
   "metadata": {},
   "outputs": [
    {
     "data": {
      "text/plain": [
       "numpy.ndarray"
      ]
     },
     "execution_count": 13,
     "metadata": {},
     "output_type": "execute_result"
    }
   ],
   "source": [
    "type(arr)"
   ]
  },
  {
   "cell_type": "code",
   "execution_count": 15,
   "id": "5cff5b25",
   "metadata": {},
   "outputs": [],
   "source": [
    "#convert to a tensor\n",
    "#this one only works with numpy\n",
    "x = torch.from_numpy(arr)"
   ]
  },
  {
   "cell_type": "code",
   "execution_count": 16,
   "id": "585b19db",
   "metadata": {},
   "outputs": [
    {
     "data": {
      "text/plain": [
       "torch.Tensor"
      ]
     },
     "execution_count": 16,
     "metadata": {},
     "output_type": "execute_result"
    }
   ],
   "source": [
    "type(x)"
   ]
  },
  {
   "cell_type": "code",
   "execution_count": 17,
   "id": "c4aa84e7",
   "metadata": {},
   "outputs": [
    {
     "data": {
      "text/plain": [
       "tensor([1, 2, 3, 4, 5], dtype=torch.int32)"
      ]
     },
     "execution_count": 17,
     "metadata": {},
     "output_type": "execute_result"
    }
   ],
   "source": [
    "x"
   ]
  },
  {
   "cell_type": "code",
   "execution_count": 18,
   "id": "d849cccc",
   "metadata": {},
   "outputs": [],
   "source": [
    "#other option"
   ]
  },
  {
   "cell_type": "code",
   "execution_count": 19,
   "id": "09ba3dda",
   "metadata": {},
   "outputs": [
    {
     "data": {
      "text/plain": [
       "tensor([1, 2, 3, 4, 5], dtype=torch.int32)"
      ]
     },
     "execution_count": 19,
     "metadata": {},
     "output_type": "execute_result"
    }
   ],
   "source": [
    "torch.as_tensor(arr)"
   ]
  },
  {
   "cell_type": "code",
   "execution_count": 21,
   "id": "9007480a",
   "metadata": {},
   "outputs": [],
   "source": [
    "arr2d = np.arange(0.0,12.0)"
   ]
  },
  {
   "cell_type": "code",
   "execution_count": 22,
   "id": "8e1c0870",
   "metadata": {},
   "outputs": [],
   "source": [
    "arr2d = arr2d.reshape(4,3)"
   ]
  },
  {
   "cell_type": "code",
   "execution_count": 23,
   "id": "f8a17467",
   "metadata": {},
   "outputs": [],
   "source": [
    "x2 = torch.from_numpy(arr2d)"
   ]
  },
  {
   "cell_type": "code",
   "execution_count": 24,
   "id": "08c8e097",
   "metadata": {},
   "outputs": [
    {
     "data": {
      "text/plain": [
       "tensor([[ 0.,  1.,  2.],\n",
       "        [ 3.,  4.,  5.],\n",
       "        [ 6.,  7.,  8.],\n",
       "        [ 9., 10., 11.]], dtype=torch.float64)"
      ]
     },
     "execution_count": 24,
     "metadata": {},
     "output_type": "execute_result"
    }
   ],
   "source": [
    "x2"
   ]
  },
  {
   "cell_type": "code",
   "execution_count": 25,
   "id": "141ffab9",
   "metadata": {},
   "outputs": [],
   "source": [
    "#the functions used above retain the relationship between the \n",
    "#array and the tensor\n",
    "arr[0] = 99"
   ]
  },
  {
   "cell_type": "code",
   "execution_count": 26,
   "id": "711b217a",
   "metadata": {},
   "outputs": [
    {
     "data": {
      "text/plain": [
       "array([99,  2,  3,  4,  5])"
      ]
     },
     "execution_count": 26,
     "metadata": {},
     "output_type": "execute_result"
    }
   ],
   "source": [
    "arr"
   ]
  },
  {
   "cell_type": "code",
   "execution_count": 27,
   "id": "046af8ce",
   "metadata": {},
   "outputs": [
    {
     "data": {
      "text/plain": [
       "tensor([99,  2,  3,  4,  5], dtype=torch.int32)"
      ]
     },
     "execution_count": 27,
     "metadata": {},
     "output_type": "execute_result"
    }
   ],
   "source": [
    "#so when we edit the original array the tensor will be affected\n",
    "x"
   ]
  },
  {
   "cell_type": "code",
   "execution_count": 28,
   "id": "b0318f65",
   "metadata": {},
   "outputs": [],
   "source": [
    "#to avoid this\n",
    "my_arr = np.arange(0,10)"
   ]
  },
  {
   "cell_type": "code",
   "execution_count": 29,
   "id": "fad94978",
   "metadata": {},
   "outputs": [
    {
     "data": {
      "text/plain": [
       "array([0, 1, 2, 3, 4, 5, 6, 7, 8, 9])"
      ]
     },
     "execution_count": 29,
     "metadata": {},
     "output_type": "execute_result"
    }
   ],
   "source": [
    "my_arr"
   ]
  },
  {
   "cell_type": "code",
   "execution_count": 33,
   "id": "70965fe5",
   "metadata": {},
   "outputs": [],
   "source": [
    "my_tensor = torch.tensor(my_arr)"
   ]
  },
  {
   "cell_type": "code",
   "execution_count": 34,
   "id": "cf753496",
   "metadata": {},
   "outputs": [],
   "source": [
    "my_other_tensor = torch.from_numpy(my_arr)"
   ]
  },
  {
   "cell_type": "code",
   "execution_count": 35,
   "id": "86318e8e",
   "metadata": {},
   "outputs": [
    {
     "data": {
      "text/plain": [
       "tensor([0, 1, 2, 3, 4, 5, 6, 7, 8, 9], dtype=torch.int32)"
      ]
     },
     "execution_count": 35,
     "metadata": {},
     "output_type": "execute_result"
    }
   ],
   "source": [
    "my_tensor"
   ]
  },
  {
   "cell_type": "code",
   "execution_count": 36,
   "id": "f4a7de31",
   "metadata": {},
   "outputs": [
    {
     "data": {
      "text/plain": [
       "tensor([0, 1, 2, 3, 4, 5, 6, 7, 8, 9], dtype=torch.int32)"
      ]
     },
     "execution_count": 36,
     "metadata": {},
     "output_type": "execute_result"
    }
   ],
   "source": [
    "my_other_tensor"
   ]
  },
  {
   "cell_type": "code",
   "execution_count": 37,
   "id": "90ac0196",
   "metadata": {},
   "outputs": [],
   "source": [
    "#now when we edit the original array used\n",
    "my_arr[0] = 99"
   ]
  },
  {
   "cell_type": "code",
   "execution_count": 38,
   "id": "d9675245",
   "metadata": {},
   "outputs": [
    {
     "data": {
      "text/plain": [
       "tensor([99,  1,  2,  3,  4,  5,  6,  7,  8,  9], dtype=torch.int32)"
      ]
     },
     "execution_count": 38,
     "metadata": {},
     "output_type": "execute_result"
    }
   ],
   "source": [
    "#this one will be affected\n",
    "my_other_tensor"
   ]
  },
  {
   "cell_type": "code",
   "execution_count": 39,
   "id": "0440c0d6",
   "metadata": {},
   "outputs": [
    {
     "data": {
      "text/plain": [
       "tensor([0, 1, 2, 3, 4, 5, 6, 7, 8, 9], dtype=torch.int32)"
      ]
     },
     "execution_count": 39,
     "metadata": {},
     "output_type": "execute_result"
    }
   ],
   "source": [
    "#and this one will not be\n",
    "my_tensor"
   ]
  },
  {
   "cell_type": "code",
   "execution_count": 40,
   "id": "049310c7",
   "metadata": {},
   "outputs": [],
   "source": [
    "#Tensor basics part two"
   ]
  },
  {
   "cell_type": "code",
   "execution_count": 41,
   "id": "e5ae1d0c",
   "metadata": {},
   "outputs": [],
   "source": [
    "new_arr = np.array([1,2,3])"
   ]
  },
  {
   "cell_type": "code",
   "execution_count": 42,
   "id": "f0d923f0",
   "metadata": {},
   "outputs": [],
   "source": [
    "#difference between torch.tensor and torch.Tensor"
   ]
  },
  {
   "cell_type": "code",
   "execution_count": 43,
   "id": "a3f5a686",
   "metadata": {},
   "outputs": [
    {
     "data": {
      "text/plain": [
       "tensor([1, 2, 3], dtype=torch.int32)"
      ]
     },
     "execution_count": 43,
     "metadata": {},
     "output_type": "execute_result"
    }
   ],
   "source": [
    "torch.tensor(new_arr)"
   ]
  },
  {
   "cell_type": "code",
   "execution_count": 47,
   "id": "648bef5d",
   "metadata": {},
   "outputs": [
    {
     "data": {
      "text/plain": [
       "tensor([1., 2., 3.])"
      ]
     },
     "execution_count": 47,
     "metadata": {},
     "output_type": "execute_result"
    }
   ],
   "source": [
    "#converts to floats\n",
    "torch.Tensor(new_arr)\n",
    "#same as calling torch.FloatTensor"
   ]
  },
  {
   "cell_type": "code",
   "execution_count": 52,
   "id": "21310c2d",
   "metadata": {},
   "outputs": [
    {
     "data": {
      "text/plain": [
       "tensor([[ 0.0000e+00,  0.0000e+00],\n",
       "        [-5.9351e+06,  4.5908e-41]])"
      ]
     },
     "execution_count": 52,
     "metadata": {},
     "output_type": "execute_result"
    }
   ],
   "source": [
    "#how to initialize tensors\n",
    "torch.empty(2,2)\n",
    "#will return a bunch of small values in the size tensor you requested"
   ]
  },
  {
   "cell_type": "code",
   "execution_count": 51,
   "id": "5436d384",
   "metadata": {},
   "outputs": [
    {
     "data": {
      "text/plain": [
       "tensor([[0, 0, 0],\n",
       "        [0, 0, 0],\n",
       "        [0, 0, 0],\n",
       "        [0, 0, 0]])"
      ]
     },
     "execution_count": 51,
     "metadata": {},
     "output_type": "execute_result"
    }
   ],
   "source": [
    "#if you actually want zeros use this\n",
    "torch.zeros(4,3,dtype=torch.int64)\n",
    "#can specify data types dont have to"
   ]
  },
  {
   "cell_type": "code",
   "execution_count": 53,
   "id": "6e8174fc",
   "metadata": {},
   "outputs": [
    {
     "data": {
      "text/plain": [
       "tensor([[1., 1., 1.],\n",
       "        [1., 1., 1.],\n",
       "        [1., 1., 1.],\n",
       "        [1., 1., 1.]])"
      ]
     },
     "execution_count": 53,
     "metadata": {},
     "output_type": "execute_result"
    }
   ],
   "source": [
    "torch.ones(4,3)"
   ]
  },
  {
   "cell_type": "code",
   "execution_count": 55,
   "id": "8a0fa346",
   "metadata": {},
   "outputs": [
    {
     "data": {
      "text/plain": [
       "tensor([[ 0,  2,  4],\n",
       "        [ 6,  8, 10],\n",
       "        [12, 14, 16]])"
      ]
     },
     "execution_count": 55,
     "metadata": {},
     "output_type": "execute_result"
    }
   ],
   "source": [
    "torch.arange(0,18,2).reshape(3,3)"
   ]
  },
  {
   "cell_type": "code",
   "execution_count": 56,
   "id": "e4094da6",
   "metadata": {},
   "outputs": [
    {
     "data": {
      "text/plain": [
       "tensor([[ 0.0000,  1.6364,  3.2727,  4.9091],\n",
       "        [ 6.5455,  8.1818,  9.8182, 11.4545],\n",
       "        [13.0909, 14.7273, 16.3636, 18.0000]])"
      ]
     },
     "execution_count": 56,
     "metadata": {},
     "output_type": "execute_result"
    }
   ],
   "source": [
    "torch.linspace(0,18,12).reshape(3,4)"
   ]
  },
  {
   "cell_type": "code",
   "execution_count": 57,
   "id": "56a1de25",
   "metadata": {},
   "outputs": [
    {
     "data": {
      "text/plain": [
       "tensor([1, 2, 3])"
      ]
     },
     "execution_count": 57,
     "metadata": {},
     "output_type": "execute_result"
    }
   ],
   "source": [
    "#can also convert a python list\n",
    "torch.tensor([1,2,3])"
   ]
  },
  {
   "cell_type": "code",
   "execution_count": 58,
   "id": "0cc58db7",
   "metadata": {},
   "outputs": [],
   "source": [
    "#to change data type\n",
    "my_tensor = torch.tensor([1,2,3])"
   ]
  },
  {
   "cell_type": "code",
   "execution_count": 59,
   "id": "e8488bed",
   "metadata": {},
   "outputs": [
    {
     "data": {
      "text/plain": [
       "torch.int64"
      ]
     },
     "execution_count": 59,
     "metadata": {},
     "output_type": "execute_result"
    }
   ],
   "source": [
    "my_tensor.dtype"
   ]
  },
  {
   "cell_type": "code",
   "execution_count": 61,
   "id": "8c29038f",
   "metadata": {},
   "outputs": [],
   "source": [
    "my_tensor = my_tensor.type(torch.int32)"
   ]
  },
  {
   "cell_type": "code",
   "execution_count": 62,
   "id": "483b1774",
   "metadata": {},
   "outputs": [
    {
     "data": {
      "text/plain": [
       "torch.int32"
      ]
     },
     "execution_count": 62,
     "metadata": {},
     "output_type": "execute_result"
    }
   ],
   "source": [
    "my_tensor.dtype"
   ]
  },
  {
   "cell_type": "code",
   "execution_count": 64,
   "id": "8df0ecb1",
   "metadata": {},
   "outputs": [],
   "source": [
    "#creating tensors of random numbers"
   ]
  },
  {
   "cell_type": "code",
   "execution_count": 65,
   "id": "852a4638",
   "metadata": {},
   "outputs": [
    {
     "data": {
      "text/plain": [
       "tensor([[0.4469, 0.4521, 0.0850],\n",
       "        [0.0026, 0.1474, 0.2609],\n",
       "        [0.3671, 0.3645, 0.9174],\n",
       "        [0.6980, 0.8565, 0.4378]])"
      ]
     },
     "execution_count": 65,
     "metadata": {},
     "output_type": "execute_result"
    }
   ],
   "source": [
    "#random distribution between 0 and 1\n",
    "torch.rand(4,3)"
   ]
  },
  {
   "cell_type": "code",
   "execution_count": 67,
   "id": "a63d4cdc",
   "metadata": {},
   "outputs": [
    {
     "data": {
      "text/plain": [
       "tensor([[-1.6066,  0.4368,  0.7592],\n",
       "        [ 1.8900, -0.2513, -0.2817],\n",
       "        [ 0.2052,  0.2932, -0.8332],\n",
       "        [-0.2916,  0.6984,  1.1211]])"
      ]
     },
     "execution_count": 67,
     "metadata": {},
     "output_type": "execute_result"
    }
   ],
   "source": [
    "#randomly from standard normal distribution\n",
    "torch.randn(4,3)"
   ]
  },
  {
   "cell_type": "code",
   "execution_count": 69,
   "id": "bbc20290",
   "metadata": {},
   "outputs": [
    {
     "data": {
      "text/plain": [
       "tensor([[5, 1, 2, 3, 3],\n",
       "        [5, 8, 0, 5, 4],\n",
       "        [3, 4, 0, 7, 5],\n",
       "        [3, 5, 1, 0, 6],\n",
       "        [5, 7, 6, 8, 8]])"
      ]
     },
     "execution_count": 69,
     "metadata": {},
     "output_type": "execute_result"
    }
   ],
   "source": [
    "#rand between low and high and the size\n",
    "#high is exclusive\n",
    "torch.randint(low=0, high=10, size=(5,5))"
   ]
  },
  {
   "cell_type": "code",
   "execution_count": 70,
   "id": "4495750d",
   "metadata": {},
   "outputs": [],
   "source": [
    "#random number tensors that follow an input size\n",
    "x = torch.zeros(2,5)"
   ]
  },
  {
   "cell_type": "code",
   "execution_count": 71,
   "id": "ea3a02cb",
   "metadata": {},
   "outputs": [
    {
     "data": {
      "text/plain": [
       "tensor([[0., 0., 0., 0., 0.],\n",
       "        [0., 0., 0., 0., 0.]])"
      ]
     },
     "execution_count": 71,
     "metadata": {},
     "output_type": "execute_result"
    }
   ],
   "source": [
    "x"
   ]
  },
  {
   "cell_type": "code",
   "execution_count": 72,
   "id": "fc4b0f28",
   "metadata": {},
   "outputs": [
    {
     "data": {
      "text/plain": [
       "tensor([[0.8302, 0.5276, 0.6263, 0.6140, 0.8071],\n",
       "        [0.5625, 0.5481, 0.7750, 0.5488, 0.8305]])"
      ]
     },
     "execution_count": 72,
     "metadata": {},
     "output_type": "execute_result"
    }
   ],
   "source": [
    "#takes shape of x\n",
    "torch.rand_like(x)"
   ]
  },
  {
   "cell_type": "code",
   "execution_count": 73,
   "id": "30d224c7",
   "metadata": {},
   "outputs": [
    {
     "data": {
      "text/plain": [
       "tensor([[-1.3232, -0.7144, -0.2474,  0.0396,  1.5014],\n",
       "        [ 0.9531, -0.4062,  0.6805,  1.3573, -2.1945]])"
      ]
     },
     "execution_count": 73,
     "metadata": {},
     "output_type": "execute_result"
    }
   ],
   "source": [
    "torch.randn_like(x)"
   ]
  },
  {
   "cell_type": "code",
   "execution_count": 74,
   "id": "bbc3940c",
   "metadata": {},
   "outputs": [
    {
     "data": {
      "text/plain": [
       "tensor([[10.,  6., 10.,  7.,  1.],\n",
       "        [ 0.,  9.,  9.,  0., 10.]])"
      ]
     },
     "execution_count": 74,
     "metadata": {},
     "output_type": "execute_result"
    }
   ],
   "source": [
    "torch.randint_like(x, low=0, high=11)"
   ]
  },
  {
   "cell_type": "code",
   "execution_count": 76,
   "id": "16373b92",
   "metadata": {},
   "outputs": [
    {
     "data": {
      "text/plain": [
       "tensor([[0.8823, 0.9150, 0.3829],\n",
       "        [0.9593, 0.3904, 0.6009]])"
      ]
     },
     "execution_count": 76,
     "metadata": {},
     "output_type": "execute_result"
    }
   ],
   "source": [
    "torch.manual_seed(42)\n",
    "torch.rand(2,3)"
   ]
  },
  {
   "cell_type": "code",
   "execution_count": 77,
   "id": "915d629d",
   "metadata": {},
   "outputs": [],
   "source": [
    "#Tensor Operations"
   ]
  },
  {
   "cell_type": "code",
   "execution_count": 78,
   "id": "017b07dc",
   "metadata": {},
   "outputs": [],
   "source": [
    "x = torch.arange(6).reshape(3,2)"
   ]
  },
  {
   "cell_type": "code",
   "execution_count": 79,
   "id": "6fce52a7",
   "metadata": {},
   "outputs": [
    {
     "data": {
      "text/plain": [
       "tensor([[0, 1],\n",
       "        [2, 3],\n",
       "        [4, 5]])"
      ]
     },
     "execution_count": 79,
     "metadata": {},
     "output_type": "execute_result"
    }
   ],
   "source": [
    "x"
   ]
  },
  {
   "cell_type": "code",
   "execution_count": 80,
   "id": "a9f8e7a8",
   "metadata": {},
   "outputs": [
    {
     "data": {
      "text/plain": [
       "tensor(3)"
      ]
     },
     "execution_count": 80,
     "metadata": {},
     "output_type": "execute_result"
    }
   ],
   "source": [
    "x[1,1]"
   ]
  },
  {
   "cell_type": "code",
   "execution_count": 81,
   "id": "d347de1f",
   "metadata": {},
   "outputs": [],
   "source": [
    "#even when indexing you still get back tensor objects"
   ]
  },
  {
   "cell_type": "code",
   "execution_count": 82,
   "id": "f4dc0e2c",
   "metadata": {},
   "outputs": [
    {
     "data": {
      "text/plain": [
       "tensor([1, 3, 5])"
      ]
     },
     "execution_count": 82,
     "metadata": {},
     "output_type": "execute_result"
    }
   ],
   "source": [
    "x[:,1]"
   ]
  },
  {
   "cell_type": "code",
   "execution_count": 84,
   "id": "d37f82e8",
   "metadata": {},
   "outputs": [
    {
     "data": {
      "text/plain": [
       "tensor([[1],\n",
       "        [3],\n",
       "        [5]])"
      ]
     },
     "execution_count": 84,
     "metadata": {},
     "output_type": "execute_result"
    }
   ],
   "source": [
    "#in order to retain vertical column shape of that index\n",
    "x[:,1:]\n",
    "#the extra : at end does that"
   ]
  },
  {
   "cell_type": "code",
   "execution_count": 85,
   "id": "33b25344",
   "metadata": {},
   "outputs": [],
   "source": [
    "x = torch.arange(10)"
   ]
  },
  {
   "cell_type": "code",
   "execution_count": 86,
   "id": "998af15a",
   "metadata": {},
   "outputs": [
    {
     "data": {
      "text/plain": [
       "tensor([0, 1, 2, 3, 4, 5, 6, 7, 8, 9])"
      ]
     },
     "execution_count": 86,
     "metadata": {},
     "output_type": "execute_result"
    }
   ],
   "source": [
    "x"
   ]
  },
  {
   "cell_type": "code",
   "execution_count": 87,
   "id": "b792ada5",
   "metadata": {},
   "outputs": [
    {
     "data": {
      "text/plain": [
       "tensor([[0, 1, 2, 3, 4],\n",
       "        [5, 6, 7, 8, 9]])"
      ]
     },
     "execution_count": 87,
     "metadata": {},
     "output_type": "execute_result"
    }
   ],
   "source": [
    "#view and reshape do not actually change the object in memory\n",
    "x.view(2,5)"
   ]
  },
  {
   "cell_type": "code",
   "execution_count": 88,
   "id": "57ae5545",
   "metadata": {},
   "outputs": [
    {
     "data": {
      "text/plain": [
       "tensor([0, 1, 2, 3, 4, 5, 6, 7, 8, 9])"
      ]
     },
     "execution_count": 88,
     "metadata": {},
     "output_type": "execute_result"
    }
   ],
   "source": [
    "x"
   ]
  },
  {
   "cell_type": "code",
   "execution_count": 89,
   "id": "ffd3d81a",
   "metadata": {},
   "outputs": [
    {
     "data": {
      "text/plain": [
       "tensor([[0, 1, 2, 3, 4],\n",
       "        [5, 6, 7, 8, 9]])"
      ]
     },
     "execution_count": 89,
     "metadata": {},
     "output_type": "execute_result"
    }
   ],
   "source": [
    "x.reshape(2,5)"
   ]
  },
  {
   "cell_type": "code",
   "execution_count": 90,
   "id": "ddd7f660",
   "metadata": {},
   "outputs": [
    {
     "data": {
      "text/plain": [
       "tensor([0, 1, 2, 3, 4, 5, 6, 7, 8, 9])"
      ]
     },
     "execution_count": 90,
     "metadata": {},
     "output_type": "execute_result"
    }
   ],
   "source": [
    "x"
   ]
  },
  {
   "cell_type": "code",
   "execution_count": 92,
   "id": "5370f73c",
   "metadata": {},
   "outputs": [
    {
     "data": {
      "text/plain": [
       "tensor([[0, 1, 2, 3, 4],\n",
       "        [5, 6, 7, 8, 9]])"
      ]
     },
     "execution_count": 92,
     "metadata": {},
     "output_type": "execute_result"
    }
   ],
   "source": [
    "# have to reassing to actaull change the shape\n",
    "x = x.reshape(2,5)\n",
    "x"
   ]
  },
  {
   "cell_type": "code",
   "execution_count": 93,
   "id": "67b445d3",
   "metadata": {},
   "outputs": [],
   "source": [
    "x = torch.arange(10)"
   ]
  },
  {
   "cell_type": "code",
   "execution_count": 94,
   "id": "fc046f34",
   "metadata": {},
   "outputs": [],
   "source": [
    "z = x.view(2,5)"
   ]
  },
  {
   "cell_type": "code",
   "execution_count": 95,
   "id": "7e444440",
   "metadata": {},
   "outputs": [
    {
     "data": {
      "text/plain": [
       "tensor([[0, 1, 2, 3, 4],\n",
       "        [5, 6, 7, 8, 9]])"
      ]
     },
     "execution_count": 95,
     "metadata": {},
     "output_type": "execute_result"
    }
   ],
   "source": [
    "z"
   ]
  },
  {
   "cell_type": "code",
   "execution_count": 96,
   "id": "6e94d474",
   "metadata": {},
   "outputs": [],
   "source": [
    "#z is now linked to x so if we change x z will change\n",
    "x[0] = 999999"
   ]
  },
  {
   "cell_type": "code",
   "execution_count": 97,
   "id": "f761c5d1",
   "metadata": {},
   "outputs": [
    {
     "data": {
      "text/plain": [
       "tensor([[999999,      1,      2,      3,      4],\n",
       "        [     5,      6,      7,      8,      9]])"
      ]
     },
     "execution_count": 97,
     "metadata": {},
     "output_type": "execute_result"
    }
   ],
   "source": [
    "z"
   ]
  },
  {
   "cell_type": "code",
   "execution_count": 98,
   "id": "cd8f2b69",
   "metadata": {},
   "outputs": [],
   "source": [
    "#this is actually convienent when working with neural networks"
   ]
  },
  {
   "cell_type": "code",
   "execution_count": 99,
   "id": "43117e35",
   "metadata": {},
   "outputs": [],
   "source": [
    "x = torch.arange(10)"
   ]
  },
  {
   "cell_type": "code",
   "execution_count": 102,
   "id": "2d8d2bc4",
   "metadata": {},
   "outputs": [
    {
     "data": {
      "text/plain": [
       "torch.Size([10])"
      ]
     },
     "execution_count": 102,
     "metadata": {},
     "output_type": "execute_result"
    }
   ],
   "source": [
    "#good when dealing with really large tensors to see the size\n",
    "x.shape"
   ]
  },
  {
   "cell_type": "code",
   "execution_count": 103,
   "id": "e82ae379",
   "metadata": {},
   "outputs": [
    {
     "data": {
      "text/plain": [
       "tensor([[0, 1, 2, 3, 4],\n",
       "        [5, 6, 7, 8, 9]])"
      ]
     },
     "execution_count": 103,
     "metadata": {},
     "output_type": "execute_result"
    }
   ],
   "source": [
    "#by setting -1 pytorch will infer the second dimension\n",
    "#also helpful with large tensors\n",
    "x.view(2,-1)"
   ]
  },
  {
   "cell_type": "code",
   "execution_count": 104,
   "id": "37cccfb6",
   "metadata": {},
   "outputs": [
    {
     "data": {
      "text/plain": [
       "tensor([[0, 1, 2, 3, 4],\n",
       "        [5, 6, 7, 8, 9]])"
      ]
     },
     "execution_count": 104,
     "metadata": {},
     "output_type": "execute_result"
    }
   ],
   "source": [
    "x.view(-1,5)"
   ]
  },
  {
   "cell_type": "code",
   "execution_count": 105,
   "id": "1131713c",
   "metadata": {},
   "outputs": [],
   "source": [
    "#Tensor Arithmetic"
   ]
  },
  {
   "cell_type": "code",
   "execution_count": 106,
   "id": "c0b25873",
   "metadata": {},
   "outputs": [],
   "source": [
    "a = torch.tensor([1.,2.,3.])"
   ]
  },
  {
   "cell_type": "code",
   "execution_count": 107,
   "id": "fd6fdb2a",
   "metadata": {},
   "outputs": [],
   "source": [
    "b = torch.tensor([4.,5.,6.])"
   ]
  },
  {
   "cell_type": "code",
   "execution_count": 109,
   "id": "d82fd1c1",
   "metadata": {},
   "outputs": [
    {
     "data": {
      "text/plain": [
       "tensor([5., 7., 9.])"
      ]
     },
     "execution_count": 109,
     "metadata": {},
     "output_type": "execute_result"
    }
   ],
   "source": [
    "#elementwise addition\n",
    "a + b"
   ]
  },
  {
   "cell_type": "code",
   "execution_count": 110,
   "id": "1414e7e3",
   "metadata": {},
   "outputs": [
    {
     "data": {
      "text/plain": [
       "tensor([5., 7., 9.])"
      ]
     },
     "execution_count": 110,
     "metadata": {},
     "output_type": "execute_result"
    }
   ],
   "source": [
    "# + is doing the same thing as this\n",
    "torch.add(a,b)"
   ]
  },
  {
   "cell_type": "code",
   "execution_count": 111,
   "id": "5f696209",
   "metadata": {},
   "outputs": [
    {
     "data": {
      "text/plain": [
       "tensor([ 4., 10., 18.])"
      ]
     },
     "execution_count": 111,
     "metadata": {},
     "output_type": "execute_result"
    }
   ],
   "source": [
    "a.mul(b)"
   ]
  },
  {
   "cell_type": "code",
   "execution_count": 112,
   "id": "87e7e675",
   "metadata": {},
   "outputs": [
    {
     "data": {
      "text/plain": [
       "tensor([ 4., 10., 18.])"
      ]
     },
     "execution_count": 112,
     "metadata": {},
     "output_type": "execute_result"
    }
   ],
   "source": [
    "#if you want to perform a reassignment along with operation\n",
    "#a = a.mul(b) or all of the methods have a corresponding _ method that reassigns\n",
    "a.mul_(b)"
   ]
  },
  {
   "cell_type": "code",
   "execution_count": 113,
   "id": "39b29480",
   "metadata": {},
   "outputs": [
    {
     "data": {
      "text/plain": [
       "tensor([ 4., 10., 18.])"
      ]
     },
     "execution_count": 113,
     "metadata": {},
     "output_type": "execute_result"
    }
   ],
   "source": [
    "a"
   ]
  },
  {
   "cell_type": "code",
   "execution_count": 114,
   "id": "1936cc4c",
   "metadata": {},
   "outputs": [],
   "source": [
    "#matrix operations"
   ]
  },
  {
   "cell_type": "code",
   "execution_count": 115,
   "id": "d0e28823",
   "metadata": {},
   "outputs": [],
   "source": [
    "a = torch.tensor([1.,2.,3.])"
   ]
  },
  {
   "cell_type": "code",
   "execution_count": 116,
   "id": "4c17764c",
   "metadata": {},
   "outputs": [
    {
     "data": {
      "text/plain": [
       "tensor([4., 5., 6.])"
      ]
     },
     "execution_count": 116,
     "metadata": {},
     "output_type": "execute_result"
    }
   ],
   "source": [
    "b"
   ]
  },
  {
   "cell_type": "code",
   "execution_count": 118,
   "id": "47fca75a",
   "metadata": {},
   "outputs": [
    {
     "data": {
      "text/plain": [
       "tensor([ 4., 10., 18.])"
      ]
     },
     "execution_count": 118,
     "metadata": {},
     "output_type": "execute_result"
    }
   ],
   "source": [
    "#elementwise, not true matrix multiplication\n",
    "a * b"
   ]
  },
  {
   "cell_type": "code",
   "execution_count": 119,
   "id": "d7c6cd7f",
   "metadata": {},
   "outputs": [
    {
     "data": {
      "text/plain": [
       "tensor(32.)"
      ]
     },
     "execution_count": 119,
     "metadata": {},
     "output_type": "execute_result"
    }
   ],
   "source": [
    "#dot product\n",
    "a.dot(b)"
   ]
  },
  {
   "cell_type": "code",
   "execution_count": 120,
   "id": "ae289325",
   "metadata": {},
   "outputs": [],
   "source": [
    "#matrix muliltplication"
   ]
  },
  {
   "cell_type": "code",
   "execution_count": 121,
   "id": "6325c5c7",
   "metadata": {},
   "outputs": [],
   "source": [
    "a = torch.tensor([[0,2,4],[1,3,5]])"
   ]
  },
  {
   "cell_type": "code",
   "execution_count": 122,
   "id": "ff902387",
   "metadata": {},
   "outputs": [
    {
     "data": {
      "text/plain": [
       "tensor([[0, 2, 4],\n",
       "        [1, 3, 5]])"
      ]
     },
     "execution_count": 122,
     "metadata": {},
     "output_type": "execute_result"
    }
   ],
   "source": [
    "a"
   ]
  },
  {
   "cell_type": "code",
   "execution_count": 123,
   "id": "f40a4bec",
   "metadata": {},
   "outputs": [],
   "source": [
    "b = torch.tensor([[6,7],[8,9],[10,11]])"
   ]
  },
  {
   "cell_type": "code",
   "execution_count": 124,
   "id": "25b1b807",
   "metadata": {},
   "outputs": [
    {
     "data": {
      "text/plain": [
       "tensor([[ 6,  7],\n",
       "        [ 8,  9],\n",
       "        [10, 11]])"
      ]
     },
     "execution_count": 124,
     "metadata": {},
     "output_type": "execute_result"
    }
   ],
   "source": [
    "b"
   ]
  },
  {
   "cell_type": "code",
   "execution_count": 125,
   "id": "a32cfb91",
   "metadata": {},
   "outputs": [
    {
     "data": {
      "text/plain": [
       "tensor([[56, 62],\n",
       "        [80, 89]])"
      ]
     },
     "execution_count": 125,
     "metadata": {},
     "output_type": "execute_result"
    }
   ],
   "source": [
    "torch.mm(a,b)"
   ]
  },
  {
   "cell_type": "code",
   "execution_count": 127,
   "id": "dc4ace65",
   "metadata": {},
   "outputs": [
    {
     "data": {
      "text/plain": [
       "tensor([[56, 62],\n",
       "        [80, 89]])"
      ]
     },
     "execution_count": 127,
     "metadata": {},
     "output_type": "execute_result"
    }
   ],
   "source": [
    "#short hand, but not recommended to be used\n",
    "a @ b"
   ]
  },
  {
   "cell_type": "code",
   "execution_count": 128,
   "id": "81a67f73",
   "metadata": {},
   "outputs": [],
   "source": [
    "#euclidian norm or L2\n",
    "#also called the magnitude of a vector\n",
    "x = torch.tensor([2.,3.,4.,5.])"
   ]
  },
  {
   "cell_type": "code",
   "execution_count": 129,
   "id": "8f31931e",
   "metadata": {},
   "outputs": [
    {
     "data": {
      "text/plain": [
       "tensor(7.3485)"
      ]
     },
     "execution_count": 129,
     "metadata": {},
     "output_type": "execute_result"
    }
   ],
   "source": [
    "#L2 or euclidian norm\n",
    "x.norm()"
   ]
  },
  {
   "cell_type": "code",
   "execution_count": 130,
   "id": "7f9a3720",
   "metadata": {},
   "outputs": [
    {
     "data": {
      "text/plain": [
       "4"
      ]
     },
     "execution_count": 130,
     "metadata": {},
     "output_type": "execute_result"
    }
   ],
   "source": [
    "#number of elements\n",
    "x.numel()"
   ]
  },
  {
   "cell_type": "code",
   "execution_count": 131,
   "id": "c12c48b1",
   "metadata": {},
   "outputs": [
    {
     "data": {
      "text/plain": [
       "4"
      ]
     },
     "execution_count": 131,
     "metadata": {},
     "output_type": "execute_result"
    }
   ],
   "source": [
    "#works for 2d not 3d\n",
    "len(x)"
   ]
  },
  {
   "cell_type": "code",
   "execution_count": null,
   "id": "8b7e7fc0",
   "metadata": {},
   "outputs": [],
   "source": []
  }
 ],
 "metadata": {
  "kernelspec": {
   "display_name": "Python 3 (ipykernel)",
   "language": "python",
   "name": "python3"
  },
  "language_info": {
   "codemirror_mode": {
    "name": "ipython",
    "version": 3
   },
   "file_extension": ".py",
   "mimetype": "text/x-python",
   "name": "python",
   "nbconvert_exporter": "python",
   "pygments_lexer": "ipython3",
   "version": "3.7.3"
  }
 },
 "nbformat": 4,
 "nbformat_minor": 5
}
